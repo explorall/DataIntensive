{
 "cells": [
  {
   "cell_type": "markdown",
   "id": "767f851d",
   "metadata": {},
   "source": [
    "## 1. Hack Preprocessing\n",
    "\n",
    "Goal is to take an array of our downloaded raw files, extracting the description fields and saving them in corresponding single column csv file with the classifier as the header\n",
    "\n",
    "This notebook assumes that the \"rawData\" directory on hdfs holds the data from our sources"
   ]
  },
  {
   "cell_type": "code",
   "execution_count": 179,
   "id": "78ddf803",
   "metadata": {},
   "outputs": [
    {
     "name": "stdout",
     "output_type": "stream",
     "text": [
      "category\tfilename\ttitle\tcontent\n",
      "business\t001.txt\tAd sales boost Time Warner profit\t Quarterly profits at US media giant TimeWarner jumped 76% to $1.13bn (£600m) for the three months to December, from $639m year-earlier.  The firm, which is now one of the biggest investors in Google, benefited from sales of high-speed internet connections and higher advert sales. TimeWarner said fourth quarter sales rose 2% to $11.1bn from $10.9bn. Its profits were buoyed by one-off gains which offset a profit dip at Warner Bros, and less users for AOL.  Time Warner said on Friday that it now owns 8% of search-engine Google. But its own internet business, AOL, had has mixed fortunes. It lost 464,000 subscribers in the fourth quarter profits were lower than in the preceding three quarters. However, the company said AOL's underlying profit before exceptional items rose 8% on the back of stronger internet advertising revenues. It hopes to increase subscribers by offering the online service free to TimeWarner internet customers and will try to sign up AOL's existing customers for high-speed broadband. TimeWarner also has to restate 2000 and 2003 results following a probe by the US Securities Exchange Commission (SEC), which is close to concluding.  Time Warner's fourth quarter profits were slightly better than analysts' expectations. But its film division saw profits slump 27% to $284m, helped by box-office flops Alexander and Catwoman, a sharp contrast to year-earlier, when the third and final film in the Lord of the Rings trilogy boosted results. For the full-year, TimeWarner posted a profit of $3.36bn, up 27% from its 2003 performance, while revenues grew 6.4% to $42.09bn. \"Our financial performance was strong, meeting or exceeding all of our full-year objectives and greatly enhancing our flexibility,\" chairman and chief executive Richard Parsons said. For 2005, TimeWarner is projecting operating earnings growth of around 5%, and also expects higher revenue and wider profit margins.  TimeWarner is to restate its accounts as part of efforts to resolve an inquiry into AOL by US market regulators. It has already offered to pay $300m to settle charges, in a deal that is under review by the SEC. The company said it was unable to estimate the amount it needed to set aside for legal reserves, which it previously set at $500m. It intends to adjust the way it accounts for a deal with German music publisher Bertelsmann's purchase of a stake in AOL Europe, which it had reported as advertising revenue. It will now book the sale of its stake in AOL Europe as a loss on the value of that stake. \n",
      "business\t002.txt\tDollar gains on Greenspan speech\t The dollar has hit its highest level against the euro in almost three months after the Federal Reserve head said the US trade deficit is set to stabilise.  And Alan Greenspan highlighted the US government's willingness to curb spending and rising household savings as factors which may help to reduce it. In late trading in New York, the dollar reached $1.2871 against the euro, from $1.2974 on Thursday. Market concerns about the deficit has hit the greenback in recent months. On Friday, Federal Reserve chairman Mr Greenspan's speech in London ahead of the meeting of G7 finance ministers sent the dollar higher after it had earlier tumbled on the back of worse-than-expected US jobs data. \"I think the chairman's taking a much more sanguine view on the current account deficit than he's taken for some time,\" said Robert Sinche, head of currency strategy at Bank of America in New York. \"He's taking a longer-term view, laying out a set of conditions under which the current account deficit can improve this year and next.\"  Worries about the deficit concerns about China do, however, remain. China's currency remains pegged to the dollar and the US currency's sharp falls in recent months have therefore made Chinese export prices highly competitive. But calls for a shift in Beijing's policy have fallen on deaf ears, despite recent comments in a major Chinese newspaper that the \"time is ripe\" for a loosening of the peg. The G7 meeting is thought unlikely to produce any meaningful movement in Chinese policy. In the meantime, the US Federal Reserve's decision on 2 February to boost interest rates by a quarter of a point - the sixth such move in as many months - has opened up a differential with European rates. The half-point window, some believe, could be enough to keep US assets looking more attractive, and could help prop up the dollar. The recent falls have partly been the result of big budget deficits, as well as the US's yawning current account gap, both of which need to be funded by the buying of US bonds and assets by foreign firms and governments. The White House will announce its budget on Monday, and many commentators believe the deficit will remain at close to half a trillion dollars. \n",
      "business\t003.txt\tYukos unit buyer faces loan claim\t The owners of embattled Russian oil giant Yukos are to ask the buyer of its former production unit to pay back a $900m (£479m) loan.  State-owned Rosneft bought the Yugansk unit for $9.3bn in a sale forced by Russia to part settle a $27.5bn tax claim against Yukos. Yukos' owner Menatep Group says it will ask Rosneft to repay a loan that Yugansk had secured on its assets. Rosneft already faces a similar $540m repayment demand from foreign banks. Legal experts said Rosneft's purchase of Yugansk would include such obligations. \"The pledged assets are with Rosneft, so it will have to pay real money to the creditors to avoid seizure of Yugansk assets,\" said Moscow-based US lawyer Jamie Firestone, who is not connected to the case. Menatep Group's managing director Tim Osborne told the Reuters news agency: \"If they default, we will fight them where the rule of law exists under the international arbitration clauses of the credit.\"  Rosneft officials were unavailable for comment. But the company has said it intends to take action against Menatep to recover some of the tax claims and debts owed by Yugansk. Yukos had filed for bankruptcy protection in a US court in an attempt to prevent the forced sale of its main production arm. The sale went ahead in December and Yugansk was sold to a little-known shell company which in turn was bought by Rosneft. Yukos claims its downfall was punishment for the political ambitions of its founder Mikhail Khodorkovsky and has vowed to sue any participant in the sale. \n",
      "business\t004.txt\tHigh fuel prices hit BA's profits\t British Airways has blamed high fuel prices for a 40% drop in profits.  Reporting its results for the three months to 31 December 2004, the airline made a pre-tax profit of £75m ($141m) compared with £125m a year earlier. Rod Eddington, BA's chief executive, said the results were \"respectable\" in a third quarter when fuel costs rose by £106m or 47.3%. BA's profits were still better than market expectation of £59m, and it expects a rise in full-year revenues.  To help offset the increased price of aviation fuel, BA last year introduced a fuel surcharge for passengers.  In October, it increased this from £6 to £10 one-way for all long-haul flights, while the short-haul surcharge was raised from £2.50 to £4 a leg. Yet aviation analyst Mike Powell of Dresdner Kleinwort Wasserstein says BA's estimated annual surcharge revenues - £160m - will still be way short of its additional fuel costs - a predicted extra £250m. Turnover for the quarter was up 4.3% to £1.97bn, further benefiting from a rise in cargo revenue. Looking ahead to its full year results to March 2005, BA warned that yields - average revenues per passenger - were expected to decline as it continues to lower prices in the face of competition from low-cost carriers. However, it said sales would be better than previously forecast. \"For the year to March 2005, the total revenue outlook is slightly better than previous guidance with a 3% to 3.5% improvement anticipated,\" BA chairman Martin Broughton said. BA had previously forecast a 2% to 3% rise in full-year revenue.  It also reported on Friday that passenger numbers rose 8.1% in January. Aviation analyst Nick Van den Brul of BNP Paribas described BA's latest quarterly results as \"pretty modest\". \"It is quite good on the revenue side and it shows the impact of fuel surcharges and a positive cargo development, however, operating margins down and cost impact of fuel are very strong,\" he said. Since the 11 September 2001 attacks in the United States, BA has cut 13,000 jobs as part of a major cost-cutting drive. \"Our focus remains on reducing controllable costs and debt whilst continuing to invest in our products,\" Mr Eddington said. \"For example, we have taken delivery of six Airbus A321 aircraft and next month we will start further improvements to our Club World flat beds.\" BA's shares closed up four pence at 274.5 pence. \n",
      "business\t005.txt\tPernod takeover talk lifts Domecq\t Shares in UK drinks and food firm Allied Domecq have risen on speculation that it could be the target of a takeover by France's Pernod Ricard.  Reports in the Wall Street Journal and the Financial Times suggested that the French spirits firm is considering a bid, but has yet to contact its target. Allied Domecq shares in London rose 4% by 1200 GMT, while Pernod shares in Paris slipped 1.2%. Pernod said it was seeking acquisitions but refused to comment on specifics.  Pernod's last major purchase was a third of US giant Seagram in 2000, the move which propelled it into the global top three of drinks firms. The other two-thirds of Seagram was bought by market leader Diageo. In terms of market value, Pernod - at 7.5bn euros ($9.7bn) - is about 9% smaller than Allied Domecq, which has a capitalisation of £5.7bn ($10.7bn; 8.2bn euros). Last year Pernod tried to buy Glenmorangie, one of Scotland's premier whisky firms, but lost out to luxury goods firm LVMH. Pernod is home to brands including Chivas Regal Scotch whisky, Havana Club rum and Jacob's Creek wine. Allied Domecq's big names include Malibu rum, Courvoisier brandy, Stolichnaya vodka and Ballantine's whisky - as well as snack food chains such as Dunkin' Donuts and Baskin-Robbins ice cream. The WSJ said that the two were ripe for consolidation, having each dealt with problematic parts of their portfolio. Pernod has reduced the debt it took on to fund the Seagram purchase to just 1.8bn euros, while Allied has improved the performance of its fast-food chains. \n",
      "business\t006.txt\tJapan narrowly escapes recession\t Japan's economy teetered on the brink of a technical recession in the three months to September, figures show.  Revised figures indicated growth of just 0.1% - and a similar-sized contraction in the previous quarter. On an annual basis, the data suggests annual growth of just 0.2%, suggesting a much more hesitant recovery than had previously been thought. A common technical definition of a recession is two successive quarters of negative growth.  The government was keen to play down the worrying implications of the data. \"I maintain the view that Japan's economy remains in a minor adjustment phase in an upward climb, and we will monitor developments carefully,\" said economy minister Heizo Takenaka. But in the face of the strengthening yen making exports less competitive and indications of weakening economic conditions ahead, observers were less sanguine. \"It's painting a picture of a recovery... much patchier than previously thought,\" said Paul Sheard, economist at Lehman Brothers in Tokyo. Improvements in the job market apparently have yet to feed through to domestic demand, with private consumption up just 0.2% in the third quarter. \n",
      "business\t007.txt\tJobs growth still slow in the US\t The US created fewer jobs than expected in January, but a fall in jobseekers pushed the unemployment rate to its lowest level in three years.  According to Labor Department figures, US firms added only 146,000 jobs in January. The gain in non-farm payrolls was below market expectations of 190,000 new jobs. Nevertheless it was enough to push down the unemployment rate to 5.2%, its lowest level since September 2001. The job gains mean that President Bush can celebrate - albeit by a very fine margin - a net growth in jobs in the US economy in his first term in office. He presided over a net fall in jobs up to last November's Presidential election - the first President to do so since Herbert Hoover. As a result, job creation became a key issue in last year's election. However, when adding December and January's figures, the administration's first term jobs record ended in positive territory.  The Labor Department also said it had revised down the jobs gains in December 2004, from 157,000 to 133,000.  Analysts said the growth in new jobs was not as strong as could be expected given the favourable economic conditions. \"It suggests that employment is continuing to expand at a moderate pace,\" said Rick Egelton, deputy chief economist at BMO Financial Group. \"We are not getting the boost to employment that we would have got given the low value of the dollar and the still relatively low interest rate environment.\" \"The economy is producing a moderate but not a satisfying amount of job growth,\" said Ken Mayland, president of ClearView Economics. \"That means there are a limited number of new opportunities for workers.\" \n",
      "business\t008.txt\tIndia calls for fair trade rules\t India, which attends the G7 meeting of seven leading industrialised nations on Friday, is unlikely to be cowed by its newcomer status.  In London on Thursday ahead of the meeting, India's finance minister, lashed out at the restrictive trade policies of the G7 nations. He objected to subsidies on agriculture that make it hard for developing nations like India to compete. He also called for reform of the United Nations, the World Bank and the IMF.  Palaniappan Chidambaram, India's finance minister, argued that these organisations need to take into account the changing world order, given India and China's integration into the global economy. He said the issue is not globalisation but \"the terms of engagement in globalisation.\" Mr Chidambaram is attending the G7 meeting as part of the G20 group of nations, which account for two thirds of the world's population. At a conference on developing enterprise hosted by UK finance minister Gordon Brown on Friday, he said that he was in favour of floating exchange rates because they help countries cope with economic shocks. \"A flexible exchange rate is one more channel for absorbing both positive and negative shocks,\" he told the conference. India, along with China, Brazil, South Africa and Russia, has been invited to take part in the G7 meeting taking place in London on Friday and Saturday. China is expected to face renewed pressure to abandon its fixed exchange rate, which G7 nations, in particular the US, have blamed for a surge in cheap Chinese exports. \"Some countries have tried to use fixed exchange rates. I do not wish to make any judgements,\" Mr Chidambaram said. Separately, the IMF warned on Thursday that India's budget deficit was too large and would hamper the country's economic growth, which it forecast to be around 6.5% in the year to March 2005. In the year to March 2004, the Indian economy grew by 8.5%. \n",
      "business\t009.txt\tEthiopia's crop production up 24%\t Ethiopia produced 14.27 million tonnes of crops in 2004, 24% higher than in 2003 and 21% more than the average of the past five years, a report says.  In 2003, crop production totalled 11.49 million tonnes, the joint report from the Food and Agriculture Organisation and the World Food Programme said. Good rains, increased use of fertilizers and improved seeds contributed to the rise in production. Nevertheless, 2.2 million Ethiopians will still need emergency assistance.  The report calculated emergency food requirements for 2005 to be 387,500 tonnes. On top of that, 89,000 tonnes of fortified blended food and vegetable oil for \"targeted supplementary food distributions for a survival programme for children under five and pregnant and lactating women\" will be needed.  In eastern and southern Ethiopia, a prolonged drought has killed crops and drained wells. Last year, a total of 965,000 tonnes of food assistance was needed to help seven million Ethiopians. The Food and Agriculture Organisation (FAO) recommend that the food assistance is bought locally. \"Local purchase of cereals for food assistance programmes is recommended as far as possible, so as to assist domestic markets and farmers,\" said Henri Josserand, chief of FAO's Global Information and Early Warning System. Agriculture is the main economic activity in Ethiopia, representing 45% of gross domestic product. About 80% of Ethiopians depend directly or indirectly on agriculture. \n"
     ]
    },
    {
     "data": {
      "text/plain": [
       "root: String = hdfs://localhost:9000/project/\n",
       "fileNames: Array[String] = Array(bbc-news-data.csv, goodreads_data.csv, job_postings.csv, mtsamples.csv)\n",
       "file: String = hdfs://localhost:9000/project/rawData/bbc-news-data.csv\n",
       "rawRDD: org.apache.spark.rdd.RDD[String] = hdfs://localhost:9000/project/rawData/bbc-news-data.csv MapPartitionsRDD[4051] at textFile at <console>:354\n",
       "rawRDDtop: Array[String] = Array(category\tfilename\ttitle\tcontent, \"business\t001.txt\tAd sales boost Time Warner profit\t Quarterly profits at US media giant TimeWarner jumped 76% to $1.13bn (£600m) for the three months to December, from $639m year-earlier.  The firm, which is now one of the biggest investors in Google, benefited from sales of high-speed internet connections and higher advert sales. TimeWarner said fourth q...\n"
      ]
     },
     "metadata": {},
     "output_type": "display_data"
    }
   ],
   "source": [
    "//The root to where the rawData, processedData and dataSets directories are\n",
    "val root = \"hdfs://localhost:9000/project/\";\n",
    "\n",
    "//An array holding all the file names in rawData \n",
    "//(I reuse the same names in the processed data don't know if that is a good \n",
    "//idea or not, would be a problem if we did not have csv on some files)\n",
    "val fileNames = Array(\"bbc-news-data.csv\",\"goodreads_data.csv\",\"job_postings.csv\",\"mtsamples.csv\");\n",
    "\n",
    "//Test that the raw data can be accessed\n",
    "val file = root + \"rawData/bbc-news-data.csv\";\n",
    "val rawRDD = sc.textFile(file);\n",
    "val rawRDDtop = rawRDD.take(10);\n",
    "rawRDDtop.foreach(println);"
   ]
  },
  {
   "cell_type": "markdown",
   "id": "3a623c9c",
   "metadata": {},
   "source": [
    "#### Creating dataFrames for each of the raw files"
   ]
  },
  {
   "cell_type": "code",
   "execution_count": 16,
   "id": "acdeb088",
   "metadata": {},
   "outputs": [
    {
     "name": "stdout",
     "output_type": "stream",
     "text": [
      "+---+--------------------+--------------------+--------------------+--------------------+--------------------+\n",
      "|_c0|         description|   medical_specialty|         sample_name|       transcription|            keywords|\n",
      "+---+--------------------+--------------------+--------------------+--------------------+--------------------+\n",
      "|  0| A 23-year-old wh...| Allergy / Immuno...|  Allergic Rhinitis |SUBJECTIVE:,  Thi...|allergy / immunol...|\n",
      "|  1| Consult for lapa...|          Bariatrics| Laparoscopic Gas...|PAST MEDICAL HIST...|bariatrics, lapar...|\n",
      "|  2| Consult for lapa...|          Bariatrics| Laparoscopic Gas...|\"HISTORY OF PRESE...| at his highest h...|\n",
      "|  3| 2-D M-Mode. Dopp...| Cardiovascular /...| 2-D Echocardiogr...|2-D M-MODE: , ,1....|cardiovascular / ...|\n",
      "|  4|  2-D Echocardiogram| Cardiovascular /...| 2-D Echocardiogr...|1.  The left vent...|cardiovascular / ...|\n",
      "+---+--------------------+--------------------+--------------------+--------------------+--------------------+\n",
      "only showing top 5 rows\n",
      "\n",
      "root\n",
      " |-- _c0: string (nullable = true)\n",
      " |-- description: string (nullable = true)\n",
      " |-- medical_specialty: string (nullable = true)\n",
      " |-- sample_name: string (nullable = true)\n",
      " |-- transcription: string (nullable = true)\n",
      " |-- keywords: string (nullable = true)\n",
      "\n"
     ]
    },
    {
     "data": {
      "text/plain": [
       "spark = org.apache.spark.sql.SparkSession@2637325c\n",
       "newsData = [category: string, filename: string ... 2 more fields]\n",
       "bookData = [_c0: string, Book: string ... 6 more fields]\n",
       "jobData = [job_id: string, company_id: string ... 25 more fields]\n",
       "medicalData = [_c0: string, description: string ... 4 more fields]\n"
      ]
     },
     "metadata": {},
     "output_type": "display_data"
    },
    {
     "data": {
      "text/plain": [
       "[_c0: string, description: string ... 4 more fields]"
      ]
     },
     "execution_count": 16,
     "metadata": {},
     "output_type": "execute_result"
    }
   ],
   "source": [
    "import org.apache.spark.sql.SparkSession\n",
    "\n",
    "val spark = SparkSession.builder().appName(\"ID2221 Project\").master(\"local[*]\").getOrCreate()\n",
    "\n",
    "import spark.implicits._\n",
    "\n",
    "//Reads the first file (news data)\n",
    "val newsData = spark.read.option(\"header\", \"true\").option(\"inferSchema\", \"true\").option(\"delimiter\",\"\\t\").csv(root + \"rawData/\" + fileNames(0));\n",
    "//newsData.show(5);\n",
    "//newsData.printSchema();\n",
    "\n",
    "//Reads the second file (book data)\n",
    "val bookData = spark.read.option(\"header\", \"true\").option(\"inferSchema\", \"true\").csv(root + \"rawData/\" + fileNames(1));\n",
    "//bookData.show(5);\n",
    "//bookData.printSchema();\n",
    "\n",
    "//Reads the third file (job postings)  (It does not seem to parse correctly but it is sufficient to show and test my function)\n",
    "val jobData = spark.read.option(\"header\", \"true\").option(\"inferSchema\", \"true\").csv(root + \"rawData/\" + fileNames(2));\n",
    "//jobData.show(5);\n",
    "//jobData.printSchema();\n",
    "\n",
    "//Reads the fourth file (medical transcripts)\n",
    "val medicalData = spark.read.option(\"header\", \"true\").option(\"inferSchema\", \"true\").csv(root + \"rawData/\" + fileNames(3));\n",
    "//medicalData.show(5);\n",
    "//medicalData.printSchema();"
   ]
  },
  {
   "cell_type": "markdown",
   "id": "6b3c6fd7",
   "metadata": {},
   "source": [
    "#### Extracting and saving each of the dataFrames"
   ]
  },
  {
   "cell_type": "code",
   "execution_count": 34,
   "id": "f67e9a4f",
   "metadata": {},
   "outputs": [
    {
     "data": {
      "text/plain": [
       "newsNL = [news article: string]\n",
       "bookNL = [book description: string]\n",
       "jobNL = [job posting: string]\n",
       "medicalNL = [medical transcript: string]\n"
      ]
     },
     "metadata": {},
     "output_type": "display_data"
    },
    {
     "data": {
      "text/plain": [
       "[medical transcript: string]"
      ]
     },
     "execution_count": 34,
     "metadata": {},
     "output_type": "execute_result"
    }
   ],
   "source": [
    "//Creates dataframe with natural language under column \"news article\"\n",
    "val newsNL = newsData.select(newsData(\"content\").alias(\"news article\"));\n",
    "\n",
    "//Creates dataframe with natural language under column \"book description\"\n",
    "val bookNL = bookData.select(bookData(\"Description\").alias(\"book description\"));\n",
    "\n",
    "//Creates dataframe with natural language under column \"job posting\"\n",
    "val jobNL = jobData.select(jobData(\"description\").alias(\"job posting\"));\n",
    "\n",
    "//Creates dataframe with natural language under column \"medical transcript\"\n",
    "val medicalNL = medicalData.select(medicalData(\"transcription\").alias(\"medical transcript\"));\n",
    "\n",
    "//Saves the dataframes as processed csv files\n",
    "newsNL.write.mode(\"overwrite\").option(\"header\",\"true\").csv(root + \"processedData/\" + fileNames(0));\n",
    "bookNL.write.mode(\"overwrite\").option(\"header\",\"true\").csv(root + \"processedData/\" + fileNames(1));\n",
    "jobNL.write.mode(\"overwrite\").option(\"header\",\"true\").csv(root + \"processedData/\" + fileNames(2));\n",
    "medicalNL.write.mode(\"overwrite\").option(\"header\",\"true\").csv(root + \"processedData/\" + fileNames(3));"
   ]
  },
  {
   "cell_type": "code",
   "execution_count": 88,
   "id": "ffc68b76",
   "metadata": {},
   "outputs": [
    {
     "name": "stdout",
     "output_type": "stream",
     "text": [
      "+--------------------+\n",
      "|        news article|\n",
      "+--------------------+\n",
      "|Quarterly profits...|\n",
      "|The dollar has hi...|\n",
      "|The owners of emb...|\n",
      "|British Airways h...|\n",
      "|Shares in UK drin...|\n",
      "+--------------------+\n",
      "only showing top 5 rows\n",
      "\n",
      "+--------------------+\n",
      "|    book description|\n",
      "+--------------------+\n",
      "|A few years after...|\n",
      "|The old life is d...|\n",
      "|Having clear boun...|\n",
      "|In Mary's world t...|\n",
      "|\"The magic of fin...|\n",
      "+--------------------+\n",
      "only showing top 5 rows\n",
      "\n",
      "+--------------------+\n",
      "|         job posting|\n",
      "+--------------------+\n",
      "|While many indust...|\n",
      "|and now we need o...|\n",
      "|AND benefits incl...|\n",
      "|               45760|\n",
      "|Are you a dynamic...|\n",
      "+--------------------+\n",
      "only showing top 5 rows\n",
      "\n",
      "+--------------------+\n",
      "|  medical transcript|\n",
      "+--------------------+\n",
      "|SUBJECTIVE:,  Thi...|\n",
      "|PAST MEDICAL HIST...|\n",
      "|\"HISTORY OF PRESE...|\n",
      "|2-D M-MODE: , ,1....|\n",
      "|1.  The left vent...|\n",
      "+--------------------+\n",
      "only showing top 5 rows\n",
      "\n"
     ]
    }
   ],
   "source": [
    "//Checks that data saved correctly\n",
    "for (file <- fileNames) {\n",
    "    val temp = spark.read.option(\"header\", \"true\").option(\"inferSchema\", \"true\").csv(root + \"processedData/\" + file);\n",
    "    temp.show(5);\n",
    "}"
   ]
  },
  {
   "cell_type": "markdown",
   "id": "9343ad14",
   "metadata": {},
   "source": [
    "## 2. Main Function\n",
    "\n",
    "Goal: Should produce three balanced sets of data. The sets will be randomly shuffled and saved as a csv files with the headers \"classification\" and \"value\"\n",
    "\n",
    "The function should take the parameters: a list of preprocessed csv files were each file has the classifier as header and the values as entries, an array of floats detailing the relative distribution of train/test/val sets, an output directory and a desired size per class (maximum possible if none specified).\n",
    "\n",
    "An unintended consequence of flexible programing made it so that there is no need for explicitly splitting the data three ways (train/val/test) we could also split it into two sets or more if we wanted."
   ]
  },
  {
   "cell_type": "code",
   "execution_count": 125,
   "id": "3040d17b",
   "metadata": {},
   "outputs": [
    {
     "name": "stdout",
     "output_type": "stream",
     "text": [
      "+--------------------+\n",
      "|        news article|\n",
      "+--------------------+\n",
      "|Quarterly profits...|\n",
      "|The dollar has hi...|\n",
      "|The owners of emb...|\n",
      "|British Airways h...|\n",
      "|Shares in UK drin...|\n",
      "+--------------------+\n",
      "only showing top 5 rows\n",
      "\n",
      "[Quarterly profits at US media giant TimeWarner jumped 76% to $1.13bn (£600m) for the three months to December, from $639m year-earlier.  The firm, which is now one of the biggest investors in Google, benefited from sales of high-speed internet connections and higher advert sales. TimeWarner said fourth quarter sales rose 2% to $11.1bn from $10.9bn. Its profits were buoyed by one-off gains which offset a profit dip at Warner Bros, and less users for AOL.  Time Warner said on Friday that it now owns 8% of search-engine Google. But its own internet business, AOL, had has mixed fortunes. It lost 464,000 subscribers in the fourth quarter profits were lower than in the preceding three quarters. However, the company said AOL's underlying profit before exceptional items rose 8% on the back of stronger internet advertising revenues. It hopes to increase subscribers by offering the online service free to TimeWarner internet customers and will try to sign up AOL's existing customers for high-speed broadband. TimeWarner also has to restate 2000 and 2003 results following a probe by the US Securities Exchange Commission (SEC), which is close to concluding.  Time Warner's fourth quarter profits were slightly better than analysts' expectations. But its film division saw profits slump 27% to $284m, helped by box-office flops Alexander and Catwoman, a sharp contrast to year-earlier, when the third and final film in the Lord of the Rings trilogy boosted results. For the full-year, TimeWarner posted a profit of $3.36bn, up 27% from its 2003 performance, while revenues grew 6.4% to $42.09bn. \"Our financial performance was strong, meeting or exceeding all of our full-year objectives and greatly enhancing our flexibility,\" chairman and chief executive Richard Parsons said. For 2005, TimeWarner is projecting operating earnings growth of around 5%, and also expects higher revenue and wider profit margins.  TimeWarner is to restate its accounts as part of efforts to resolve an inquiry into AOL by US market regulators. It has already offered to pay $300m to settle charges, in a deal that is under review by the SEC. The company said it was unable to estimate the amount it needed to set aside for legal reserves, which it previously set at $500m. It intends to adjust the way it accounts for a deal with German music publisher Bertelsmann's purchase of a stake in AOL Europe, which it had reported as advertising revenue. It will now book the sale of its stake in AOL Europe as a loss on the value of that stake.]\n",
      "[The dollar has hit its highest level against the euro in almost three months after the Federal Reserve head said the US trade deficit is set to stabilise.  And Alan Greenspan highlighted the US government's willingness to curb spending and rising household savings as factors which may help to reduce it. In late trading in New York, the dollar reached $1.2871 against the euro, from $1.2974 on Thursday. Market concerns about the deficit has hit the greenback in recent months. On Friday, Federal Reserve chairman Mr Greenspan's speech in London ahead of the meeting of G7 finance ministers sent the dollar higher after it had earlier tumbled on the back of worse-than-expected US jobs data. \"I think the chairman's taking a much more sanguine view on the current account deficit than he's taken for some time,\" said Robert Sinche, head of currency strategy at Bank of America in New York. \"He's taking a longer-term view, laying out a set of conditions under which the current account deficit can improve this year and next.\"  Worries about the deficit concerns about China do, however, remain. China's currency remains pegged to the dollar and the US currency's sharp falls in recent months have therefore made Chinese export prices highly competitive. But calls for a shift in Beijing's policy have fallen on deaf ears, despite recent comments in a major Chinese newspaper that the \"time is ripe\" for a loosening of the peg. The G7 meeting is thought unlikely to produce any meaningful movement in Chinese policy. In the meantime, the US Federal Reserve's decision on 2 February to boost interest rates by a quarter of a point - the sixth such move in as many months - has opened up a differential with European rates. The half-point window, some believe, could be enough to keep US assets looking more attractive, and could help prop up the dollar. The recent falls have partly been the result of big budget deficits, as well as the US's yawning current account gap, both of which need to be funded by the buying of US bonds and assets by foreign firms and governments. The White House will announce its budget on Monday, and many commentators believe the deficit will remain at close to half a trillion dollars.]\n",
      "[The owners of embattled Russian oil giant Yukos are to ask the buyer of its former production unit to pay back a $900m (£479m) loan.  State-owned Rosneft bought the Yugansk unit for $9.3bn in a sale forced by Russia to part settle a $27.5bn tax claim against Yukos. Yukos' owner Menatep Group says it will ask Rosneft to repay a loan that Yugansk had secured on its assets. Rosneft already faces a similar $540m repayment demand from foreign banks. Legal experts said Rosneft's purchase of Yugansk would include such obligations. \"The pledged assets are with Rosneft, so it will have to pay real money to the creditors to avoid seizure of Yugansk assets,\" said Moscow-based US lawyer Jamie Firestone, who is not connected to the case. Menatep Group's managing director Tim Osborne told the Reuters news agency: \"If they default, we will fight them where the rule of law exists under the international arbitration clauses of the credit.\"  Rosneft officials were unavailable for comment. But the company has said it intends to take action against Menatep to recover some of the tax claims and debts owed by Yugansk. Yukos had filed for bankruptcy protection in a US court in an attempt to prevent the forced sale of its main production arm. The sale went ahead in December and Yugansk was sold to a little-known shell company which in turn was bought by Rosneft. Yukos claims its downfall was punishment for the political ambitions of its founder Mikhail Khodorkovsky and has vowed to sue any participant in the sale.]\n",
      "[British Airways has blamed high fuel prices for a 40% drop in profits.  Reporting its results for the three months to 31 December 2004, the airline made a pre-tax profit of £75m ($141m) compared with £125m a year earlier. Rod Eddington, BA's chief executive, said the results were \"respectable\" in a third quarter when fuel costs rose by £106m or 47.3%. BA's profits were still better than market expectation of £59m, and it expects a rise in full-year revenues.  To help offset the increased price of aviation fuel, BA last year introduced a fuel surcharge for passengers.  In October, it increased this from £6 to £10 one-way for all long-haul flights, while the short-haul surcharge was raised from £2.50 to £4 a leg. Yet aviation analyst Mike Powell of Dresdner Kleinwort Wasserstein says BA's estimated annual surcharge revenues - £160m - will still be way short of its additional fuel costs - a predicted extra £250m. Turnover for the quarter was up 4.3% to £1.97bn, further benefiting from a rise in cargo revenue. Looking ahead to its full year results to March 2005, BA warned that yields - average revenues per passenger - were expected to decline as it continues to lower prices in the face of competition from low-cost carriers. However, it said sales would be better than previously forecast. \"For the year to March 2005, the total revenue outlook is slightly better than previous guidance with a 3% to 3.5% improvement anticipated,\" BA chairman Martin Broughton said. BA had previously forecast a 2% to 3% rise in full-year revenue.  It also reported on Friday that passenger numbers rose 8.1% in January. Aviation analyst Nick Van den Brul of BNP Paribas described BA's latest quarterly results as \"pretty modest\". \"It is quite good on the revenue side and it shows the impact of fuel surcharges and a positive cargo development, however, operating margins down and cost impact of fuel are very strong,\" he said. Since the 11 September 2001 attacks in the United States, BA has cut 13,000 jobs as part of a major cost-cutting drive. \"Our focus remains on reducing controllable costs and debt whilst continuing to invest in our products,\" Mr Eddington said. \"For example, we have taken delivery of six Airbus A321 aircraft and next month we will start further improvements to our Club World flat beds.\" BA's shares closed up four pence at 274.5 pence.]\n",
      "[Shares in UK drinks and food firm Allied Domecq have risen on speculation that it could be the target of a takeover by France's Pernod Ricard.  Reports in the Wall Street Journal and the Financial Times suggested that the French spirits firm is considering a bid, but has yet to contact its target. Allied Domecq shares in London rose 4% by 1200 GMT, while Pernod shares in Paris slipped 1.2%. Pernod said it was seeking acquisitions but refused to comment on specifics.  Pernod's last major purchase was a third of US giant Seagram in 2000, the move which propelled it into the global top three of drinks firms. The other two-thirds of Seagram was bought by market leader Diageo. In terms of market value, Pernod - at 7.5bn euros ($9.7bn) - is about 9% smaller than Allied Domecq, which has a capitalisation of £5.7bn ($10.7bn; 8.2bn euros). Last year Pernod tried to buy Glenmorangie, one of Scotland's premier whisky firms, but lost out to luxury goods firm LVMH. Pernod is home to brands including Chivas Regal Scotch whisky, Havana Club rum and Jacob's Creek wine. Allied Domecq's big names include Malibu rum, Courvoisier brandy, Stolichnaya vodka and Ballantine's whisky - as well as snack food chains such as Dunkin' Donuts and Baskin-Robbins ice cream. The WSJ said that the two were ripe for consolidation, having each dealt with problematic parts of their portfolio. Pernod has reduced the debt it took on to fund the Seagram purchase to just 1.8bn euros, while Allied has improved the performance of its fast-food chains.]\n"
     ]
    },
    {
     "name": "stdout",
     "output_type": "stream",
     "text": [
      "+--------------------+\n",
      "|        news article|\n",
      "+--------------------+\n",
      "|Chart stars Duran...|\n",
      "|Partners of those...|\n",
      "|Shares in Google ...|\n",
      "|England forward M...|\n",
      "|People using wire...|\n",
      "+--------------------+\n",
      "only showing top 5 rows\n",
      "\n",
      "+--------------------+\n",
      "|        news article|\n",
      "+--------------------+\n",
      "|Chart stars Duran...|\n",
      "|Partners of those...|\n",
      "|Shares in Google ...|\n",
      "|England forward M...|\n",
      "|People using wire...|\n",
      "+--------------------+\n",
      "\n",
      "[Chart stars Duran Duran are to appear in a VH1 special in the US including interviews and concert footage.  The show airs on Tuesday and will feature a studio performance, behind the scenes footage and fan interviews. \"They seemed like a perfect fit with our audience,\" said Rick Krim, VH1's vice president of music and talent. The band recently released a new album, Astronaut, the first from the original line-up since 1983. They will also tour Japan and the US next year.  \"When we started playing together, we didn't try and make a really sort of mature album. We just really wanted to make a great Duran Duran album,\" said keyboard player Nick Rhodes. \"It's pretty much in line with a lot of stuff out there.\" Duran Duran are currently promoting the album's second single, What Happens Tomorrow.  Simon Le Bon said earlier this year that the group were not trying to update their sound too much. \"We wouldn't want to lose them [older fans] by trying too hard by trying to connect with a new audience,\" the singer said. Le Bon also said the five members were getting on very well. \"We're like any people who get very close. Sometimes you argue with each other. But the fact is we inspire each other musically. \"Nobody else does it for me,\" he said. \"It's just very special.\"]\n",
      "[Partners of those who love their hi-tech gear may want to get their presents in early as experts predict a gadget shortage this Christmas.  With Apple's iPod topping wish lists again, there may not be enough iPod minis to go round, predicts Oliver Irish, editor of gadget magazine Stuff. \"The iPod mini is likely to be this year's Tracey Island,\" said Mr Irish. Stuff has compiled a list of the top 10 gadgets for 2004 and the iPod is at number one.  For anyone bewildered by the choice of gadgets on the market, Stuff and What Hi-Fi? are hosting a best-of gadget show in London this weekend. Star of the show will be Sony's Qrio Robot, an all-singing, all-dancing, football-playing man-machine who can even hold intelligent conversations.  But he is not for sale and Sony has no commercial plans for the robot. \"He will greet visitors and is flying in from Japan. He probably has his own airplane seat, that is how highly Sony prize him,\" said Mr Irish. Also on display will be a virtual keyboard which projects itself onto any flat surface. The event will play host to a large collection of digital music players, from companies such as Creative, Sony and Philips as well as the ubiquitously fashionable iPod from Apple. Suggestions that it could be a gaming or wireless Christmas are unlikely to come true as MP3 players remain the most popular stocking filler, said Mr Irish. \"Demand is huge and Apple has promised that it can supply enough but people might struggle to get their hands on iPod minis,\" said Mr Irish.  For those who like their gadgets to be multi-talented, the Gizmondo, a powerful gaming console with GPS and GPRS, that also doubles up as an MP3 player, movie player and camera, could be a must-have. \"What is impressive is how much it can do and how well it can do them,\" said Mr Irish. This Christmas, gadgets will not be an all-male preserve. \"Women will be getting gadgets from husbands and boyfriends as well as buying them for themselves,\" said Mr Irish. \"Gadgets nowadays are lifestyle products rather than just for geeks.\"]\n",
      "[Shares in Google have fallen 6.7% after employees and early investors in the web search took advantage of the first chance to sell their holdings.  Restrictions were imposed ahead of its flotation in August, to prevent shares being dumped quickly onto the market. In one of the most closely-watched initial public offerings in stock market history, the US-based company sold 19.6 million shares at $85 each. Google shares have risen since but fell $12.33 on Tuesday to close at $172.55. The restriction - known as a lockup - is being eased piecemeal: in all, some 227 million additional shares will become free to trade by February 2005. Selling the shares could turn many of Google's workers into millionaires.  There were fears that the potential increase of shares in circulation from Tuesday would ease demand for stock. However, analysts say they expected most shareholders would be holding back from selling all their shares immediately, as Google's good performance and future growth potential means demand will hold.  In its first earnings report since floating on the stock market, Google said it made a net profit of $52m in the three months ending 30 September. Sales surged to $805.9m in the third quarter, up from $393.9m a year earlier. Google's main service - its internet search - is free to users, so the firm makes much of its money from selling advertising space linked to the words for which its users search. It also sells the use of its technology to companies who need to make either their websites, or their internal information systems, searchable.]\n",
      "[England forward Martin Corry says Jason Robinson is the right man to lead the national team back to winning ways.  After losses to Wales and France, critics have started to wonder whether Robinson can captain from full-back. But Corry has backed Robinson, who was given the role after the injury to fly-half Jonny Wilkinson, ahead of this weekend's trip to Ireland. \"Jason is doing a tremendous job. Every week my respect for him goes up,\" Corry told BBC Radio Five Live. \"He is an inspirational captain. When he talks with the squad he talks with a lot of sense. \"The players have a lot of respect for him. It's an honour to be in the England side and an honour to play under him.\"  England are under immense pressure following their poor start to the year and victory is vital if they are to rescue their Six Nations campaign. But Corry insists England are in the right frame of mind for the contest. \"There is apprehension going into every game,\" he added. \"But you have to use that fear and put it into a positive mindset. \"When the whistle goes on Sunday, what has happened in the past does not count for anything.  \"We have not performed but if we put in a performance on Sunday then we can start turning results around. \"There are a lot of changes taking place with England and we are at the start of something. We have not got off to the greatest of starts but you need to experience the bad the before you can fully appreciate the good.\"  A trip to Lansdowne Road is daunting at any time, especially against an Ireland side that are flying high after two impressive wins. They are the form team of the tournament and are tipped to claim their first Grand Slam since 1948. But Corry is relishing the prospect of taking on the Irish in their own backyard. \"They are full of confidence and are playing a great team game,\" he said. \"The forwards are creating a great platform and they have explosive runners out wide. \"If you look at the team on paper, they have stars from one to 15. It's a huge task but it is a great opportunity for us. \"Lansdowne Road is a tremendous venue to play in and we have to use it to our advantage.\"]\n",
      "[People using wireless net hotspots will soon be able to make free phone calls as well as surf the net.  Wireless provider Broadreach and net telephony firm Skype are rolling out a service at 350 hotspots around the UK this week. Users will need a Skype account - downloadable for free - and they will then be able to make net calls via wi-fi without paying for net access. Skype allows people to make free PC-based calls to other Skype users.  Users of the system can also make calls to landlines and mobiles for a fee. The system is gaining in popularity and now has 28 million users around the world. Its paid service - dubbed Skype Out - has so far attracted 940,000 users. It plans to add more paid services with forthcoming launches of video conferencing, voice mail and Skype In, a service which would allow users to receive phone calls from landlines and mobiles. London-based software developer Connectotel has unveiled software that will expand the SMS functions of Skype, allowing users to send text messages to mobile phones from the service. Broadreach Networks has around two million users and hotspots in places such as Virgin Megastores, the Travelodge chain of hotels and all London's major rail terminals. The company is due to launch wi-fi on Virgin Trains later in the year. \"Skype's success at spreading the world about internet telephony is well-known and we are delighted to be offering free access to Skype users in our hotspots,\" commented Broadreach chief executive Magnus McEwen-King.]\n"
     ]
    },
    {
     "data": {
      "text/plain": [
       "df = [news article: string]\n",
       "shuffledDF = [news article: string]\n",
       "tempDF = [news article: string]\n"
      ]
     },
     "metadata": {},
     "output_type": "display_data"
    },
    {
     "data": {
      "text/plain": [
       "[news article: string]"
      ]
     },
     "execution_count": 125,
     "metadata": {},
     "output_type": "execute_result"
    }
   ],
   "source": [
    "import org.apache.spark.sql.DataFrame\n",
    "import scala.util.Random\n",
    "\n",
    "//Messy codde for testing a bunch of things\n",
    "\n",
    "/*\n",
    "var testArray: Array[String] = Array(\"1\",\"2\",\"3\")\n",
    "testArray(2)=\"gretat\"\n",
    "testArray :+= \"that\"\n",
    "\n",
    "Random.shuffle(testArray)\n",
    "\n",
    "for (v <- testArray) {\n",
    "    println(v)\n",
    "}\n",
    "\n",
    "val testInt : Int = testArray.length\n",
    "\n",
    "val testArray2 : Array[DataFrame] = new Array[DataFrame](testInt) \n",
    "\n",
    "print(root)\n",
    "\n",
    "testArray2(2) = spark.read.option(\"header\", \"true\").option(\"inferSchema\", \"true\").csv(root + \"processedData/\" + \"bbc-news-data.csv\")\n",
    "\n",
    "for (v <- testArray2) {\n",
    "    println(v)\n",
    "}\n",
    "\n",
    "val testInt2 = 500;\n",
    "var testFloat = .7\n",
    "testFloat = testFloat + 0.1\n",
    "\n",
    "println((testInt2 * testFloat).asInstanceOf[Int])\n",
    "\n",
    "var testArray3: Array[Float] = Array(1,2,3)\n",
    "\n",
    "for(v <- 0 to testArray3.length-1)\n",
    "    testArray3(v)=testArray3(v)/3\n",
    "for (v <- testArray3) {\n",
    "    println(v)\n",
    "}\n",
    "\n",
    "scala.util.Random.alphanumeric.take(20)\n",
    "*/\n",
    "\n",
    "val df = spark.read.option(\"header\", \"true\").option(\"inferSchema\", \"true\").csv(root + \"processedData/\" + \"bbc-news-data.csv\")\n",
    "df.show(5)\n",
    "for (v <- df.take(5)) println(v)\n",
    "\n",
    "import org.apache.spark.sql.functions.rand\n",
    "\n",
    "//Shuffling \n",
    "val shuffledDF = df.orderBy(rand())\n",
    "shuffledDF.show(5)\n",
    "\n",
    "val tempDF = shuffledDF.limit(5)\n",
    "tempDF.show()\n",
    "\n",
    "for (v <- shuffledDF.take(5)) println(v)"
   ]
  },
  {
   "cell_type": "code",
   "execution_count": 177,
   "id": "6fa06169",
   "metadata": {},
   "outputs": [
    {
     "data": {
      "text/plain": [
       "spark: org.apache.spark.sql.SparkSession = org.apache.spark.sql.SparkSession@2637325c\n",
       "createDataSets: (processedFiles: Array[String], relativeDist: Array[Double], outputDirectory: String, outputNames: Array[String], classSize: Int)Unit\n"
      ]
     },
     "metadata": {},
     "output_type": "display_data"
    }
   ],
   "source": [
    "import org.apache.spark.sql.SparkSession\n",
    "import org.apache.spark.sql.DataFrame\n",
    "import org.apache.spark.sql.functions._\n",
    "\n",
    "val spark = SparkSession.builder().appName(\"ID2221 Project\").master(\"local[*]\").getOrCreate();\n",
    "\n",
    "import spark.implicits._\n",
    "\n",
    "//main function\n",
    "def createDataSets(processedFiles : Array[String], relativeDist : Array[Double], outputDirectory : String, \n",
    "                   outputNames : Array[String], classSize : Int = 0 ) {\n",
    "    //Creates an array holding dataframes of each input file\n",
    "    val fileDF: Array[DataFrame] = new Array[DataFrame](processedFiles.length);\n",
    "    for (i <- 0 to fileDF.length-1)\n",
    "        fileDF(i) = spark.read.option(\"header\", \"true\").option(\"inferSchema\", \"true\").csv(processedFiles(i));\n",
    "    \n",
    "    //Calculates desired size\n",
    "    var size : Int = classSize;\n",
    "    if (size <= 0) { //If user has not specified a desired size, the fuction will create a data set which is as large as possible\n",
    "        var minSize = fileDF(0).count();\n",
    "        for (i <- 1 to fileDF.length-1) {\n",
    "            val tempSize = fileDF(i).count();\n",
    "            if (tempSize < minSize) \n",
    "                minSize=tempSize;\n",
    "        }\n",
    "        size=minSize.asInstanceOf[Int];\n",
    "    }\n",
    "    \n",
    "    //Take \"size\" random rows from each dataframe\n",
    "    val sampledDF: Array[DataFrame] = new Array[DataFrame](fileDF.length);\n",
    "    for (i <- 0 to sampledDF.length-1) //Takes \"size\" random samples from each file\n",
    "        sampledDF(i) = fileDF(i).orderBy(rand()).limit(size);\n",
    "    \n",
    "    //Create dataframes with columns \"class\" and \"value\"\n",
    "    val pairDF: Array[DataFrame] = new Array[DataFrame](sampledDF.length);\n",
    "    for (i <- 0 to pairDF.length-1) {\n",
    "        pairDF(i)=sampledDF(i).withColumn(\"class\", lit(sampledDF(i).columns(0))); //Adds \"class\" column with value of original header\n",
    "        pairDF(i)=pairDF(i).withColumnRenamed(sampledDF(i).columns(0), \"value\"); //Renames original header to \"value\"\n",
    "    }\n",
    "    \n",
    "    //Splits the created pairs into parts according to \"relativeDist\"\n",
    "    val splitDF: Array[Array[DataFrame]] = new Array[Array[DataFrame]](sampledDF.length);\n",
    "    for (i <- 0 to splitDF.length-1) {\n",
    "        //The function sorts the results based on first column after picking random elements (we reshuffle when combining)\n",
    "        splitDF(i) = pairDF(i).randomSplit(relativeDist, 0); \n",
    "    }\n",
    "    \n",
    "    //Combines the split pairs into the desired sets (one set for each entry in \"relativeDist\")\n",
    "    val setDF: Array[DataFrame] = new Array[DataFrame](relativeDist.length);\n",
    "    for (i <- 0 to relativeDist.length-1) {\n",
    "        //Combines all the class dataframes\n",
    "        setDF(i) = splitDF(0)(i);\n",
    "        for (ii <- 1 to splitDF.length-1)\n",
    "            setDF(i) = setDF(i).union(splitDF(ii)(i));\n",
    "        \n",
    "        //Shuffles the result\n",
    "        setDF(i) = setDF(i).orderBy(rand());\n",
    "    }\n",
    "    \n",
    "    //Temporary function for showing some samples\n",
    "    for (v <- setDF) {\n",
    "        //for (e <- v) println(e.count())\n",
    "        //println(\"next\")\n",
    "        v.show(10);\n",
    "        println(v.count());\n",
    "    }\n",
    "    \n",
    "    //Saves the created sets as csv files\n",
    "    for (i <- 0 to setDF.length-1)\n",
    "        setDF(i).write.mode(\"overwrite\").option(\"header\",\"true\").csv(outputDirectory + outputNames(i));\n",
    "}"
   ]
  },
  {
   "cell_type": "code",
   "execution_count": 178,
   "id": "07823d14",
   "metadata": {},
   "outputs": [
    {
     "name": "stdout",
     "output_type": "stream",
     "text": [
      "+--------------------+------------------+\n",
      "|               value|             class|\n",
      "+--------------------+------------------+\n",
      "|Prince Harry shou...|      news article|\n",
      "|including local o...|       job posting|\n",
      "|\"This is volume t...|  book description|\n",
      "|\"Alternate cover ...|  book description|\n",
      "|England will prot...|      news article|\n",
      "|                  52|       job posting|\n",
      "|PREOPERATIVE DIAG...|medical transcript|\n",
      "|The author of eig...|  book description|\n",
      "|Tony Blair has re...|      news article|\n",
      "|UK gamers are get...|      news article|\n",
      "+--------------------+------------------+\n",
      "only showing top 10 rows\n",
      "\n",
      "7036\n",
      "+--------------------+----------------+\n",
      "|               value|           class|\n",
      "+--------------------+----------------+\n",
      "|             R370075|     job posting|\n",
      "|Robert Langdon, H...|book description|\n",
      "|\"A collection of ...|book description|\n",
      "|Tony Blair has ap...|    news article|\n",
      "|The First Phone C...|book description|\n",
      "|000 Monthly Busin...|     job posting|\n",
      "|She spent each da...|book description|\n",
      "|\"Posing as jewel ...|book description|\n",
      "|Gerber Collision ...|     job posting|\n",
      "|Music download ne...|    news article|\n",
      "+--------------------+----------------+\n",
      "only showing top 10 rows\n",
      "\n",
      "1388\n",
      "+--------------------+------------------+\n",
      "|               value|             class|\n",
      "+--------------------+------------------+\n",
      "|HISTORY: , The pa...|medical transcript|\n",
      "|           education|       job posting|\n",
      "|            1.69E+12|       job posting|\n",
      "|OCT Consulting is...|       job posting|\n",
      "|        upon request|       job posting|\n",
      "|DIAGNOSIS:,  Desi...|medical transcript|\n",
      "|a Relief Driver –...|       job posting|\n",
      "|PREOPERATIVE DIAG...|medical transcript|\n",
      "|                 age|       job posting|\n",
      "|\"IDENTIFYING DATA...|medical transcript|\n",
      "+--------------------+------------------+\n",
      "only showing top 10 rows\n",
      "\n",
      "476\n"
     ]
    },
    {
     "data": {
      "text/plain": [
       "rootProcessed: String = hdfs://localhost:9000/project/processedData/\n",
       "processedFiles: Array[String] = Array(hdfs://localhost:9000/project/processedData/bbc-news-data.csv, hdfs://localhost:9000/project/processedData/goodreads_data.csv, hdfs://localhost:9000/project/processedData/job_postings.csv, hdfs://localhost:9000/project/processedData/mtsamples.csv)\n",
       "dist: Array[Double] = Array(160.0, 30.0, 10.0)\n",
       "outputNames: Array[String] = Array(train, val, test)\n"
      ]
     },
     "metadata": {},
     "output_type": "display_data"
    }
   ],
   "source": [
    "val rootProcessed : String = \"hdfs://localhost:9000/project/processedData/\";\n",
    "val processedFiles : Array[String] = Array(rootProcessed + \"bbc-news-data.csv\", rootProcessed + \"goodreads_data.csv\", \n",
    "                                           rootProcessed + \"job_postings.csv\", rootProcessed + \"mtsamples.csv\");\n",
    "// Just for the sake of testing 80% train, 15% val, 5% test\n",
    "val dist : Array[Double] = Array(160, 30, 10); //Any values work, function only look at comparative sizes\n",
    "\n",
    "val outputNames : Array[String] = Array(\"train\", \"val\", \"test\");\n",
    "\n",
    "createDataSets(processedFiles, dist, \"hdfs://localhost:9000/project/dataSets/\", outputNames);"
   ]
  },
  {
   "cell_type": "markdown",
   "id": "55b0042e",
   "metadata": {},
   "source": [
    "## 3. Testing Distribution"
   ]
  }
 ],
 "metadata": {
  "kernelspec": {
   "display_name": "Apache Toree - Scala",
   "language": "scala",
   "name": "apache_toree_scala"
  },
  "language_info": {
   "codemirror_mode": "text/x-scala",
   "file_extension": ".scala",
   "mimetype": "text/x-scala",
   "name": "scala",
   "pygments_lexer": "scala",
   "version": "2.12.15"
  }
 },
 "nbformat": 4,
 "nbformat_minor": 5
}
